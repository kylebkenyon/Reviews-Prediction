{
 "cells": [
  {
   "cell_type": "code",
   "execution_count": null,
   "metadata": {
    "collapsed": true
   },
   "outputs": [],
   "source": [
    "import urllib\n",
    "import urllib.request as ur\n",
    "import numpy\n",
    "import csv\n",
    "\n",
    "def parseJSONData(fname):\n",
    "    with open(fname) as f:\n",
    "        content = f.readlines()\n",
    "    for l in content:\n",
    "        yield eval(l)"
   ]
  },
  {
   "cell_type": "code",
   "execution_count": null,
   "metadata": {
    "collapsed": false
   },
   "outputs": [],
   "source": [
    "def getYs(JSON):\n",
    "    values = []\n",
    "    for i in range(len(JSON)):\n",
    "        if(JSON[i][\"helpful\"][\"outOf\"] != 0):\n",
    "            values.append(JSON[i][\"helpful\"][\"nHelpful\"]/JSON[i][\"helpful\"][\"outOf\"])\n",
    "        #else:\n",
    "            #values.append(0)\n",
    "    return values\n",
    "        "
   ]
  },
  {
   "cell_type": "code",
   "execution_count": null,
   "metadata": {
    "collapsed": false
   },
   "outputs": [],
   "source": [
    "data = list(parseJSONData(\"C:/Users/Kyle/HelpfulnessData/train.json\"))"
   ]
  },
  {
   "cell_type": "code",
   "execution_count": null,
   "metadata": {
    "collapsed": false
   },
   "outputs": [],
   "source": [
    "data[0]"
   ]
  },
  {
   "cell_type": "code",
   "execution_count": null,
   "metadata": {
    "collapsed": false
   },
   "outputs": [],
   "source": [
    "Training = data[:100000]\n",
    "Validation = data[100000:200000]"
   ]
  },
  {
   "cell_type": "code",
   "execution_count": null,
   "metadata": {
    "collapsed": false
   },
   "outputs": [],
   "source": [
    "ytrain = getYs(Training)\n",
    "print(len(ytrain))"
   ]
  },
  {
   "cell_type": "code",
   "execution_count": null,
   "metadata": {
    "collapsed": false
   },
   "outputs": [],
   "source": [
    "alpha = numpy.average(ytrain)\n",
    "print(alpha)"
   ]
  },
  {
   "cell_type": "markdown",
   "metadata": {},
   "source": [
    "#### ANSWER\n",
    "\n",
    "Alpha = 0.783737364232"
   ]
  },
  {
   "cell_type": "code",
   "execution_count": null,
   "metadata": {
    "collapsed": false,
    "scrolled": true
   },
   "outputs": [],
   "source": [
    "yvalid = getYs(Validation)\n",
    "dif = numpy.average(numpy.abs(yvalid - alpha))\n",
    "print(dif)"
   ]
  },
  {
   "cell_type": "markdown",
   "metadata": {},
   "source": [
    "#### ANSWER\n",
    "\n",
    "MAE = 0.277603731206"
   ]
  },
  {
   "cell_type": "code",
   "execution_count": null,
   "metadata": {
    "collapsed": false
   },
   "outputs": [],
   "source": [
    "def features(JSON, alpha):\n",
    "    values = numpy.zeros((100000, 3))\n",
    "    count = 0\n",
    "    for i in range(len(JSON)):\n",
    "        if(JSON[i][\"helpful\"][\"outOf\"] != 0):\n",
    "            values[count][0] = 1\n",
    "            values[count][1] = len(JSON[i][\"reviewText\"].split())\n",
    "            values[count][2] = JSON[i][\"rating\"]\n",
    "            count += 1\n",
    "    return values    "
   ]
  },
  {
   "cell_type": "code",
   "execution_count": null,
   "metadata": {
    "collapsed": false
   },
   "outputs": [],
   "source": [
    "Xtrain = features(Training, alpha)[:31402]\n",
    "# print(Xtrain)\n",
    "# print(numpy.shape(Xtrain))"
   ]
  },
  {
   "cell_type": "code",
   "execution_count": null,
   "metadata": {
    "collapsed": false
   },
   "outputs": [],
   "source": [
    "ytrain = getYs(Training)"
   ]
  },
  {
   "cell_type": "code",
   "execution_count": null,
   "metadata": {
    "collapsed": false
   },
   "outputs": [],
   "source": [
    "theta,residuals,rank,s = numpy.linalg.lstsq(Xtrain, ytrain)\n",
    "\n",
    "print(theta)\n",
    "\n",
    "\n",
    "Yvalid = getYs(Validation)\n",
    "Xvalid = features(Validation, alpha)[:len(Yvalid)]"
   ]
  },
  {
   "cell_type": "code",
   "execution_count": null,
   "metadata": {
    "collapsed": false
   },
   "outputs": [],
   "source": [
    "prediction = numpy.dot(Xvalid,theta)"
   ]
  },
  {
   "cell_type": "code",
   "execution_count": null,
   "metadata": {
    "collapsed": false
   },
   "outputs": [],
   "source": [
    "mae = numpy.average(numpy.abs(prediction - Yvalid))"
   ]
  },
  {
   "cell_type": "code",
   "execution_count": null,
   "metadata": {
    "collapsed": false
   },
   "outputs": [],
   "source": [
    "print(mae)"
   ]
  },
  {
   "cell_type": "markdown",
   "metadata": {},
   "source": [
    "#### ANSWER\n",
    "\n",
    "MAE = 0.269304779898"
   ]
  },
  {
   "cell_type": "code",
   "execution_count": null,
   "metadata": {
    "collapsed": false
   },
   "outputs": [],
   "source": [
    "reviewData = list(parseJSONData(\"C:/Users/Kyle/HelpfulnessData/test_Helpful.json\"))\n",
    "reviewData[8649]"
   ]
  },
  {
   "cell_type": "code",
   "execution_count": null,
   "metadata": {
    "collapsed": false
   },
   "outputs": [],
   "source": [
    "print(len(reviewData))"
   ]
  },
  {
   "cell_type": "code",
   "execution_count": null,
   "metadata": {
    "collapsed": true
   },
   "outputs": [],
   "source": [
    "def readCSV(fname):\n",
    "    with open(fname) as f:\n",
    "        reader = list(csv.reader(f,delimiter = '-'))\n",
    "    return reader"
   ]
  },
  {
   "cell_type": "code",
   "execution_count": null,
   "metadata": {
    "collapsed": false
   },
   "outputs": [],
   "source": [
    "#userID-itemID-outOf,prediction\n",
    "pairs = readCSV(\"C:/Users/Kyle/HelpfulnessData/pairs_Helpful.txt\")\n",
    "print(len(pairs))"
   ]
  },
  {
   "cell_type": "code",
   "execution_count": null,
   "metadata": {
    "collapsed": false
   },
   "outputs": [],
   "source": [
    "def featurestest(JSON, alpha):\n",
    "    values = numpy.zeros((14000, 3))\n",
    "    count = 0\n",
    "    for i in range(len(JSON)):\n",
    "        values[count][0] = 1\n",
    "        values[count][1] = len(JSON[i][\"reviewText\"].split())\n",
    "        values[count][2] = JSON[i][\"rating\"]\n",
    "        count += 1\n",
    "    return values   \n",
    "\n",
    "xtest = featurestest(reviewData, alpha)\n",
    "print(xtest[0])\n",
    "print(numpy.shape(xtest))"
   ]
  },
  {
   "cell_type": "code",
   "execution_count": null,
   "metadata": {
    "collapsed": false,
    "scrolled": true
   },
   "outputs": [],
   "source": [
    "rightside = numpy.dot(xtest, theta)\n",
    "print (rightside[0])"
   ]
  },
  {
   "cell_type": "code",
   "execution_count": null,
   "metadata": {
    "collapsed": false
   },
   "outputs": [],
   "source": [
    "outof = numpy.array(pairs)[:,2]\n",
    "print(\"hi\", outof[0])\n",
    "outof2 = outof.astype(int)\n",
    "predictions = numpy.multiply(rightside, outof2)\n",
    "print (predictions[0])"
   ]
  },
  {
   "cell_type": "code",
   "execution_count": null,
   "metadata": {
    "collapsed": false
   },
   "outputs": [],
   "source": [
    "file = open(\"C:/Users/Kyle/HelpfulnessData/pairs_Helpful_mine.txt\", 'w')\n",
    "file.write(\"userID-itemID-outOf,prediction\\r\")\n",
    "for i in range(len(predictions)):\n",
    "    file.write(str(reviewData[i][\"reviewerID\"]) + \"-\" + str(reviewData[i][\"itemID\"]) + \"-\" + str(reviewData[i][\"helpful\"][\"outOf\"]) + \",\" + str(predictions[i]) + \"\\r\")"
   ]
  },
  {
   "cell_type": "code",
   "execution_count": null,
   "metadata": {
    "collapsed": false
   },
   "outputs": [],
   "source": [
    "ratings = numpy.zeros(100000)\n",
    "for i in range(len(Training)):\n",
    "        ratings[i] = Training[i][\"rating\"]\n",
    "ratingAlpha = numpy.average(ratings)\n",
    "print(ratingAlpha)\n",
    "\n",
    "validratings = numpy.zeros(100000)\n",
    "for i in range(len(Training)):\n",
    "    validratings[i] = Validation[i][\"rating\"]\n",
    "\n",
    "dif = numpy.average(numpy.abs(validratings - ratingAlpha))\n",
    "print(dif)"
   ]
  },
  {
   "cell_type": "markdown",
   "metadata": {},
   "source": [
    "#### ANSWER\n",
    "\n",
    "Alpha = 4.23198    \n",
    "MAE = 0.8894957272"
   ]
  },
  {
   "cell_type": "code",
   "execution_count": null,
   "metadata": {
    "collapsed": false
   },
   "outputs": [],
   "source": [
    "def updateAlpha(userdata, itemdata, alpha, n):\n",
    "    sum = 0\n",
    "    for user in userdata:\n",
    "        for item in userdata[user]['items']:\n",
    "            sum += int(userdata[user]['items'][item]) - (userdata[user]['userBias'] + itemdata[item]['itemBias'])\n",
    "    sum = sum / n\n",
    "    return sum\n",
    "    \n",
    "def updateUser(userdata, itemdata, alpha, lam):\n",
    "    for user in userdata:\n",
    "        sum = 0\n",
    "        for item in userdata[user]['items']:\n",
    "            sum += int(userdata[user]['items'][item]) - (alpha + itemdata[item]['itemBias'])\n",
    "        sum = sum / (lam + len(userdata[user]['items']))\n",
    "        userdata[user]['userBias'] = sum\n",
    "    \n",
    "def updateItem(userdata, itemdata, alpha, lam):\n",
    "    for item in itemdata:\n",
    "        sum = 0\n",
    "        for user in itemdata[item]['users']:\n",
    "            sum += int(itemdata[item]['users'][user]) - (alpha + userdata[user]['userBias'])\n",
    "        sum = sum / (lam + len(itemdata[item]['users']))\n",
    "        itemdata[item]['itemBias'] = sum    \n",
    "        \n",
    "        \n",
    "        \n",
    "def updateAll(userdata, itemdata, alpha, n, lam, eps):\n",
    "    dif = 1\n",
    "    while(dif > eps):\n",
    "        alphaold = alpha\n",
    "        alpha = updateAlpha(userdata, itemdata, alpha, n)\n",
    "        updateUser(userdata, itemdata, alpha, lam)\n",
    "        updateItem(userdata, itemdata, alpha, lam)\n",
    "        dif = numpy.abs(alpha - alphaold)\n",
    "        #print(alpha)\n",
    "    return alpha"
   ]
  },
  {
   "cell_type": "code",
   "execution_count": null,
   "metadata": {
    "collapsed": false
   },
   "outputs": [],
   "source": [
    "def getUserData(Training):\n",
    "    userdata = {}\n",
    "    for element in Training:\n",
    "        key = element[\"reviewerID\"]\n",
    "        if(key not in userdata):\n",
    "            userdata[key] = {\n",
    "                'userBias' : 0, \n",
    "                'items' : {\n",
    "                    element['itemID'] : element['rating']\n",
    "                }\n",
    "            }\n",
    "        else:\n",
    "            userdata[key]['items'][element['itemID']] = element['rating']\n",
    "    return userdata"
   ]
  },
  {
   "cell_type": "code",
   "execution_count": null,
   "metadata": {
    "collapsed": false
   },
   "outputs": [],
   "source": [
    "def getItemData(Training):\n",
    "    itemdata = {}\n",
    "    for element in Training:\n",
    "        key = element[\"itemID\"]\n",
    "        if(key not in itemdata):\n",
    "            itemdata[key] = {\n",
    "                'itemBias' : 0, \n",
    "                'users' : {\n",
    "                    element['reviewerID'] : element['rating']\n",
    "                }\n",
    "            }\n",
    "        else:\n",
    "            itemdata[key]['users'][element['reviewerID']] = element['rating']\n",
    "    return itemdata\n"
   ]
  },
  {
   "cell_type": "code",
   "execution_count": null,
   "metadata": {
    "collapsed": false
   },
   "outputs": [],
   "source": [
    "min = 0\n",
    "max = 0\n",
    "username = \"\"\n",
    "usernamemin = \"\"\n",
    "for user in userdata:\n",
    "    if(userdata[user]['userBias'] < min):\n",
    "        min = userdata[user]['userBias']\n",
    "        username = user\n",
    "    if(userdata[user]['userBias'] > max):\n",
    "        max = userdata[user]['userBias']\n",
    "        usernamemin = user\n",
    "print(username, \" \", usernamemin)\n",
    "print(max, \" \", min)\n",
    "    "
   ]
  },
  {
   "cell_type": "code",
   "execution_count": null,
   "metadata": {
    "collapsed": false
   },
   "outputs": [],
   "source": [
    "min = 0\n",
    "max = 0\n",
    "itemname = \"\"\n",
    "itemnamemin = \"\"\n",
    "for item in itemdata:\n",
    "    if(itemdata[item]['itemBias'] < min):\n",
    "        min = itemdata[item]['itemBias']\n",
    "        itemname = item\n",
    "    if(itemdata[item]['itemBias'] > max):\n",
    "        max = itemdata[item]['itemBias']\n",
    "        itemnamemin = item\n",
    "print(itemname, \" \", itemnamemin)\n",
    "print(max, \" \", min)"
   ]
  },
  {
   "cell_type": "markdown",
   "metadata": {},
   "source": [
    "#### ANSWER\n",
    "\n",
    "Min User: U052814411    \n",
    "Max User: U816486110    \n",
    "    \n",
    "Min Item: I071368828    \n",
    "Max Item: I558325415"
   ]
  },
  {
   "cell_type": "code",
   "execution_count": null,
   "metadata": {
    "collapsed": false
   },
   "outputs": [],
   "source": [
    "def getMSE(alpha, userdata, itemdata, data):\n",
    "    sum = 0\n",
    "    for i in range(len(data)):\n",
    "        user = 0\n",
    "        item = 0\n",
    "        if(data[i]['reviewerID'] in userdata):\n",
    "            user = userdata[data[i]['reviewerID']]['userBias']\n",
    "        if(data[i]['itemID'] in itemdata):\n",
    "            item = itemdata[data[i]['itemID']]['itemBias']\n",
    "        sum += ((alpha + user + item - data[i]['rating'])**2)\n",
    "    sum = sum / len(data)\n",
    "    return sum"
   ]
  },
  {
   "cell_type": "code",
   "execution_count": null,
   "metadata": {
    "collapsed": false
   },
   "outputs": [],
   "source": [
    "alpha = updateAll(userdata, itemdata, 1, len(Training) , 2.5, .0001)\n",
    "print(\"MSE = \", getMSE(alpha, userdata, itemdata, data))"
   ]
  },
  {
   "cell_type": "code",
   "execution_count": null,
   "metadata": {
    "collapsed": false
   },
   "outputs": [],
   "source": [
    "tests = [.01, .1, 1, 2, 3, 6, 7, 10, 100]\n",
    "for i in tests:\n",
    "    userdata = getUserData(Training)\n",
    "    itemdata = getItemData(Training)\n",
    "    alpha = updateAll(userdata, itemdata, 1, len(Training) , i, .0001)\n",
    "    print(\"MSE @ \", i, \" = \", getMSE(alpha, userdata, itemdata, Validation))"
   ]
  },
  {
   "cell_type": "code",
   "execution_count": null,
   "metadata": {
    "collapsed": false
   },
   "outputs": [],
   "source": [
    "userdata = getUserData(Training)\n",
    "itemdata = getItemData(Training)\n",
    "alpha = updateAll(userdata, itemdata, 1, len(Training) , 7, .0001)\n",
    "print(\"MSE @ \", 7, \" = \", getMSE(alpha, userdata, itemdata, Validation))"
   ]
  },
  {
   "cell_type": "code",
   "execution_count": null,
   "metadata": {
    "collapsed": false
   },
   "outputs": [],
   "source": [
    "#userID-itemID,prediction\n",
    "pairs = readCSV(\"C:/Users/Kyle/HelpfulnessData/pairs_Rating.txt\")\n",
    "print(numpy.shape(pairs))"
   ]
  },
  {
   "cell_type": "code",
   "execution_count": null,
   "metadata": {
    "collapsed": false
   },
   "outputs": [],
   "source": [
    "def getPredict(alpha, userdata, itemdata):\n",
    "    pairs = readCSV(\"C:/Users/Kyle/HelpfulnessData/pairs_Rating.txt\")\n",
    "    print(numpy.shape(pairs))\n",
    "    print(alpha)\n",
    "    prediction = numpy.zeros(14000)\n",
    "    for i in range(len(pairs)):\n",
    "        user = 0\n",
    "        item = 0\n",
    "        if(pairs[i][0] in userdata):\n",
    "            user = userdata[pairs[i][0]]['userBias']\n",
    "        if(pairs[i][1] in itemdata):\n",
    "            item = itemdata[pairs[i][1]]['itemBias']\n",
    "        prediction[i] = (alpha + user + item)\n",
    "    return prediction"
   ]
  },
  {
   "cell_type": "code",
   "execution_count": null,
   "metadata": {
    "collapsed": false
   },
   "outputs": [],
   "source": [
    "file = open(\"C:/Users/Kyle/HelpfulnessData/pairs_Rating_mine.txt\", 'w')\n",
    "file.write(\"userID-itemID,prediction\\r\")\n",
    "predic = getPredict(alpha, userdata, itemdata)\n"
   ]
  },
  {
   "cell_type": "code",
   "execution_count": null,
   "metadata": {
    "collapsed": false
   },
   "outputs": [],
   "source": [
    "for i in range(len(pairs)):\n",
    "    file.write(str(pairs[i][0]) + \"-\" + str(pairs[i][1]) + \",\" + str(predic[i]) + \"\\r\")\n",
    "    print(i)"
   ]
  },
  {
   "cell_type": "markdown",
   "metadata": {},
   "source": [
    "#### ANSWER\n",
    "\n",
    "Lambda Chosen: 7     \n",
    "MSE @  7  =  1.1396040704237156    \n"
   ]
  },
  {
   "cell_type": "code",
   "execution_count": null,
   "metadata": {
    "collapsed": true
   },
   "outputs": [],
   "source": []
  }
 ],
 "metadata": {
  "kernelspec": {
   "display_name": "Python 3",
   "language": "python",
   "name": "python3"
  },
  "language_info": {
   "codemirror_mode": {
    "name": "ipython",
    "version": 3
   },
   "file_extension": ".py",
   "mimetype": "text/x-python",
   "name": "python",
   "nbconvert_exporter": "python",
   "pygments_lexer": "ipython3",
   "version": "3.4.4"
  }
 },
 "nbformat": 4,
 "nbformat_minor": 1
}
