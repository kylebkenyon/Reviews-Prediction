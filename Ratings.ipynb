{
 "cells": [
  {
   "cell_type": "code",
   "execution_count": null,
   "metadata": {
    "collapsed": true
   },
   "outputs": [],
   "source": [
    "import urllib\n",
    "import urllib.request as ur\n",
    "import numpy\n",
    "import csv\n",
    "import copy"
   ]
  },
  {
   "cell_type": "code",
   "execution_count": null,
   "metadata": {
    "collapsed": true
   },
   "outputs": [],
   "source": [
    "BASEPATH = \"C:/Users/Kyle/Assignment 1/\"\n",
    "EHTA = .00001"
   ]
  },
  {
   "cell_type": "code",
   "execution_count": null,
   "metadata": {
    "collapsed": true
   },
   "outputs": [],
   "source": [
    "def parseJSONData(fname):\n",
    "    with open(fname) as f:\n",
    "        content = f.readlines()\n",
    "    for l in content:\n",
    "        yield eval(l)\n",
    "\n",
    "def readCSV(fname):\n",
    "    with open(fname) as f:\n",
    "        reader = list(csv.reader(f,delimiter = '-'))\n",
    "    return reader\n",
    "\n",
    "def getYs(JSON):\n",
    "    values = []\n",
    "    for i in range(len(JSON)):\n",
    "        values.append(JSON[i]['rating'])\n",
    "    return values"
   ]
  },
  {
   "cell_type": "code",
   "execution_count": null,
   "metadata": {
    "collapsed": true
   },
   "outputs": [],
   "source": [
    "def d_alpha(u1, i1, a1, alpha, n, EHTA): #times 1/n? \n",
    "    suma = 0\n",
    "    count = 0\n",
    "    for user in u1:\n",
    "        for item in u1[user]['items']:\n",
    "            count += 1\n",
    "            suma += (a1 + i1[item]['itemBias'] + u1[user]['userBias'] + numpy.dot(i1[item]['gamma'], u1[user]['gamma']) - int(u1[user]['items'][item]))\n",
    "    #suma = suma / count\n",
    "    alpha -= (EHTA * suma)\n",
    "    return alpha\n",
    "\n",
    "def d_beta_u(u1, userdata, i1, a1, k, lam, EHTA):\n",
    "    for user in u1:\n",
    "        sumb = 0\n",
    "        sumg= numpy.zeros(k)\n",
    "        for item in u1[user]['items']:\n",
    "            sumb += (a1 + i1[item]['itemBias'] + u1[user]['userBias'] + numpy.dot(i1[item]['gamma'], u1[user]['gamma']) - int(u1[user]['items'][item]))\n",
    "            sumb += (lam * u1[user]['userBias'])\n",
    "            sumg += (a1 + i1[item]['itemBias'] + u1[user]['userBias'] + numpy.dot(i1[item]['gamma'], u1[user]['gamma']) - int(u1[user]['items'][item])) * i1[item]['gamma']\n",
    "        #sumb = sumb / len(u1[user]['items'])\n",
    "        #sumg = sumg / len(u1[user]['items'])\n",
    "        userdata[user]['userBias'] -= (100 * EHTA * sumb)\n",
    "        userdata[user]['gamma'] -= (100 * EHTA * sumg)\n",
    "    #return userdata\n",
    "\n",
    "def d_beta_i(u1, i1, itemdata, a1, k, lam, EHTA):\n",
    "    for item in i1:\n",
    "        sumb = 0\n",
    "        sumg = numpy.zeros(k)\n",
    "        for user in i1[item]['users']:\n",
    "            sumb += (a1 + u1[user]['userBias'] + i1[item]['itemBias'] + numpy.dot(u1[user]['gamma'], i1[item]['gamma']) - int(i1[item]['users'][user]))\n",
    "            sumb += (lam * i1[item]['itemBias'])\n",
    "            sumg += (a1 + i1[item]['itemBias'] + u1[user]['userBias'] + numpy.dot(i1[item]['gamma'], u1[user]['gamma']) - int(i1[item]['users'][user])) * u1[user]['gamma']\n",
    "        #sumb = sumb / len(i1[item]['users'])\n",
    "        #sumg = sumg / len(i1[item]['users'])\n",
    "        itemdata[item]['itemBias'] -= (100 * EHTA * sumb)\n",
    "        itemdata[item]['gamma'] -= (100 * EHTA * sumg)\n",
    "    #return itemdata"
   ]
  },
  {
   "cell_type": "code",
   "execution_count": null,
   "metadata": {
    "collapsed": false
   },
   "outputs": [],
   "source": [
    "def update_all(userdata, itemdata, alpha, n, k, lam, eps, EHTA): #make copies before calling them all\n",
    "    dif = 1\n",
    "    count = 0\n",
    "    fvalold = 1000000000\n",
    "    fval = 100000000\n",
    "    mseold = 7\n",
    "    mse = getMSE(alpha, userdata, itemdata, Validation)\n",
    "    \n",
    "    while(fvalold > fval and mseold >= mse):\n",
    "        a1 = copy.deepcopy(alpha)\n",
    "        u1 = copy.deepcopy(userdata)\n",
    "        i1 = copy.deepcopy(itemdata)\n",
    "        if(count %10 == 0):\n",
    "            mseold = mse\n",
    "            mse = getMSE(alpha, userdata, itemdata, Validation)\n",
    "            print(\"Count: \", count, \"MSE = \", mse)\n",
    "            print(alpha)\n",
    "        alpha = d_alpha(u1, i1, a1, alpha, n, EHTA)\n",
    "        d_beta_u(u1, userdata, i1, a1, k, lam, EHTA)\n",
    "        d_beta_i(u1, i1, itemdata, a1, k, lam, EHTA)\n",
    "        fvalold = fval\n",
    "        fval = f(userdata, itemdata, alpha, lam)\n",
    "        print(fval)\n",
    "\n",
    "        count += 1\n",
    "\n",
    "    return alpha\n",
    "\n",
    "def f(userdata, itemdata, alpha, lam):\n",
    "    sum = 0\n",
    "    for user in userdata:\n",
    "        for item in userdata[user]['items']:\n",
    "            sum += (alpha + userdata[user]['userBias'] + itemdata[item]['itemBias'] + numpy.dot(itemdata[item]['gamma'], userdata[user]['gamma']) - int(userdata[user]['items'][item]))**2\n",
    "            sum += lam * (itemdata[item]['itemBias']**2 + numpy.linalg.norm(itemdata[item]['gamma']))\n",
    "        sum += lam * (userdata[user]['userBias']**2 + numpy.linalg.norm(userdata[user]['gamma']))\n",
    "    return sum"
   ]
  },
  {
   "cell_type": "code",
   "execution_count": null,
   "metadata": {
    "collapsed": true
   },
   "outputs": [],
   "source": [
    "def getUserData(Training, k):\n",
    "    userdata = {}\n",
    "    gamma_u = numpy.random.rand(k)*.01\n",
    "    #gamma_u = numpy.zeros(k)\n",
    "    for element in Training:\n",
    "        key = element[\"reviewerID\"]\n",
    "        if(key not in userdata):\n",
    "            userdata[key] = {\n",
    "                'userBias' : numpy.random.uniform(-.1, .1), \n",
    "                'items' : {\n",
    "                    element['itemID'] : element['rating']\n",
    "                },\n",
    "                'gamma' : gamma_u\n",
    "            }\n",
    "        else:\n",
    "            userdata[key]['items'][element['itemID']] = element['rating']\n",
    "    return userdata\n",
    "\n",
    "def getItemData(Training, k):\n",
    "    itemdata = {}\n",
    "    gamma_i = numpy.random.rand(k)*.01\n",
    "    #gamma_i = numpy.zeros(k)\n",
    "    for element in Training:\n",
    "        key = element[\"itemID\"]\n",
    "        if(key not in itemdata):\n",
    "            itemdata[key] = {\n",
    "                'itemBias' : numpy.random.uniform(-.1, .1), \n",
    "                'users' : {\n",
    "                    element['reviewerID'] : element['rating']\n",
    "                },\n",
    "                'gamma' : gamma_i\n",
    "            }\n",
    "        else:\n",
    "            itemdata[key]['users'][element['reviewerID']] = element['rating']\n",
    "    return itemdata"
   ]
  },
  {
   "cell_type": "code",
   "execution_count": null,
   "metadata": {
    "collapsed": true
   },
   "outputs": [],
   "source": [
    "data = list(parseJSONData(BASEPATH + \"train.json\"))\n",
    "\n",
    "Training = data[:100000]\n",
    "Validation = data[100000:200000]"
   ]
  },
  {
   "cell_type": "code",
   "execution_count": null,
   "metadata": {
    "collapsed": false
   },
   "outputs": [],
   "source": [
    "lam = 10\n",
    "k = 1\n",
    "eps = .0001\n",
    "alpha = 4.23198\n",
    "n = len(Training)\n",
    "\n",
    "userdata = getUserData(Training, k)\n",
    "itemdata = getItemData(Training, k)"
   ]
  },
  {
   "cell_type": "code",
   "execution_count": null,
   "metadata": {
    "collapsed": false,
    "scrolled": false
   },
   "outputs": [],
   "source": [
    "alpha = update_all(userdata, itemdata, alpha, n, k, lam, eps, EHTA)"
   ]
  },
  {
   "cell_type": "code",
   "execution_count": null,
   "metadata": {
    "collapsed": false
   },
   "outputs": [],
   "source": [
    "def getMSE(alpha, userdata, itemdata, data):\n",
    "    sum = 0\n",
    "    for i in range(len(data)):\n",
    "        user = 0\n",
    "        item = 0\n",
    "        dot = 0\n",
    "        if(data[i]['reviewerID'] in userdata):\n",
    "            user = userdata[data[i]['reviewerID']]['userBias']\n",
    "        if(data[i]['itemID'] in itemdata):\n",
    "            item = itemdata[data[i]['itemID']]['itemBias']\n",
    "        if(user and item):\n",
    "            dot  = numpy.dot(userdata[data[i]['reviewerID']]['gamma'], itemdata[data[i]['itemID']]['gamma'])\n",
    "        sum += ((alpha + user + item + dot - data[i]['rating'])**2)\n",
    "    sum = sum / len(data)\n",
    "    return sum"
   ]
  },
  {
   "cell_type": "code",
   "execution_count": null,
   "metadata": {
    "collapsed": false
   },
   "outputs": [],
   "source": [
    "print(\"MSE = \", getMSE(alpha, userdata, itemdata, Validation))"
   ]
  },
  {
   "cell_type": "code",
   "execution_count": null,
   "metadata": {
    "collapsed": true
   },
   "outputs": [],
   "source": [
    "def getPredict(alpha, userdata, itemdata, pairs):\n",
    "    prediction = numpy.zeros(14000)\n",
    "    for i in range(len(pairs)):\n",
    "        user = 0\n",
    "        item = 0\n",
    "        if(pairs[i][0] in userdata):\n",
    "            user = userdata[pairs[i][0]]['userBias']\n",
    "        if(pairs[i][1] in itemdata):\n",
    "            item = itemdata[pairs[i][1]]['itemBias']\n",
    "        if(user and item):\n",
    "            dot  = numpy.dot(itemdata[pairs[i][1]]['gamma'], userdata[pairs[i][0]]['gamma'])\n",
    "        prediction[i] = (alpha + user + item + dot)\n",
    "    return prediction"
   ]
  },
  {
   "cell_type": "code",
   "execution_count": null,
   "metadata": {
    "collapsed": false
   },
   "outputs": [],
   "source": [
    "pairs = readCSV(BASEPATH + \"pairs_Rating.txt\")\n",
    "\n",
    "file = open(BASEPATH + \"pairs_Rating_mine.txt\", 'w')\n",
    "file.write(\"userID-itemID,prediction\\r\")\n",
    "predic = getPredict(alpha, userdata, itemdata, pairs)\n",
    "\n",
    "for i in range(len(pairs)):\n",
    "    file.write(str(pairs[i][0]) + \"-\" + str(pairs[i][1]) + \",\" + str(predic[i]) + \"\\r\")"
   ]
  },
  {
   "cell_type": "code",
   "execution_count": null,
   "metadata": {
    "collapsed": false
   },
   "outputs": [],
   "source": [
    "for user in userdata:\n",
    "    print(userdata[user]['userBias'])"
   ]
  },
  {
   "cell_type": "code",
   "execution_count": null,
   "metadata": {
    "collapsed": true
   },
   "outputs": [],
   "source": []
  }
 ],
 "metadata": {
  "kernelspec": {
   "display_name": "Python 3",
   "language": "python",
   "name": "python3"
  },
  "language_info": {
   "codemirror_mode": {
    "name": "ipython",
    "version": 3
   },
   "file_extension": ".py",
   "mimetype": "text/x-python",
   "name": "python",
   "nbconvert_exporter": "python",
   "pygments_lexer": "ipython3",
   "version": "3.4.4"
  }
 },
 "nbformat": 4,
 "nbformat_minor": 1
}
